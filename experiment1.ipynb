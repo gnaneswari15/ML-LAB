{
 "cells": [
  {
   "cell_type": "code",
   "execution_count": 1,
   "id": "77f7e3b4-5b37-4f72-a828-4b96b1000cb5",
   "metadata": {
    "tags": []
   },
   "outputs": [
    {
     "name": "stdout",
     "output_type": "stream",
     "text": [
      "Hello World\n"
     ]
    }
   ],
   "source": [
    "print(\"Hello World\")"
   ]
  },
  {
   "cell_type": "code",
   "execution_count": 2,
   "id": "80fec355-4d3c-4285-afcd-0acc25efb678",
   "metadata": {
    "tags": []
   },
   "outputs": [
    {
     "name": "stdout",
     "output_type": "stream",
     "text": [
      "Gnaneswari is a aspiring student of pvp siddhartha institute of technology studying in third year of cse\n"
     ]
    }
   ],
   "source": [
    "print(\"Gnaneswari is a aspiring student of pvp siddhartha institute of technology studying in third year of cse\")"
   ]
  },
  {
   "cell_type": "code",
   "execution_count": null,
   "id": "4eb6eb85-0324-4a22-a387-f051cb1361e3",
   "metadata": {},
   "outputs": [],
   "source": []
  }
 ],
 "metadata": {
  "kernelspec": {
   "display_name": "Python 3 (ipykernel)",
   "language": "python",
   "name": "python3"
  },
  "language_info": {
   "codemirror_mode": {
    "name": "ipython",
    "version": 3
   },
   "file_extension": ".py",
   "mimetype": "text/x-python",
   "name": "python",
   "nbconvert_exporter": "python",
   "pygments_lexer": "ipython3",
   "version": "3.11.5"
  }
 },
 "nbformat": 4,
 "nbformat_minor": 5
}
